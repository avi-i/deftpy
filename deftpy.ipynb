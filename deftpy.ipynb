{
 "cells": [
  {
   "cell_type": "markdown",
   "id": "057917cc",
   "metadata": {},
   "source": [
    "# Deftpy: Algorithmic Prediction of the Thermodynamics of Defects in Metal Oxides\n",
    "\n",
    "#### Ethan Nussinov, Wexler Group\n",
    "\n"
   ]
  },
  {
   "cell_type": "markdown",
   "id": "04b0b2a5",
   "metadata": {},
   "source": [
    "---\n",
    "## Summary\n",
    "\n",
    "Deftpy is a python package built from a model first concieved in a 2021 paper: *Factors Governing Oxygen Vacancy Formation in Oxide Perovskites*, cited in the references. The principal idea governing the creation of the model is that perovskites have proven to be tremendously important for a host of potential applications, everything from sustainable energy to improved computer memory methodologies. All of the aforementioned utilizations are highly dependent on the formation of oxygen vacancies in these perovskites, and as such this is an area of great interest in many applicable domains. In the paper, Wexler et. al. report the construction of a compact linear model (MAE of 0.45eV), dependent on easily accessible and inexpensive data and quantum mechanical calculations. \n",
    "\n"
   ]
  },
  {
   "cell_type": "markdown",
   "id": "9b30d341",
   "metadata": {},
   "source": [
    "---\n",
    "## Statement of Need\n",
    "\n",
    "The purpose of deftpy is to turn the model from this paper into widely accessible and easily implemented code in python. The workflow of deftpy (outlined in figure 1) is easy to follow.\n",
    "1. A file is read in and stored as an instance of the class `Crystal`\n",
    "2. The unique oxygens in the structure are determined, and assigned coordination numbers using CrystalNN\n",
    "3. The non oxygens are identified and assigned oxidation states\n",
    "4. The $E_b$ and $V_r$ associated by cation are pulled from the XF data\n",
    "5. Using $E_b$, $V_r$, and the coordination numbers of the unique oxygens, $E_v$ is determined using the XF model."
   ]
  },
  {
   "cell_type": "code",
   "execution_count": null,
   "id": "c266d448",
   "metadata": {},
   "outputs": [],
   "source": []
  }
 ],
 "metadata": {
  "kernelspec": {
   "display_name": "Python 3 (ipykernel)",
   "language": "python",
   "name": "python3"
  },
  "language_info": {
   "codemirror_mode": {
    "name": "ipython",
    "version": 3
   },
   "file_extension": ".py",
   "mimetype": "text/x-python",
   "name": "python",
   "nbconvert_exporter": "python",
   "pygments_lexer": "ipython3",
   "version": "3.9.12"
  }
 },
 "nbformat": 4,
 "nbformat_minor": 5
}
