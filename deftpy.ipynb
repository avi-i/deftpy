{
 "cells": [
  {
   "cell_type": "markdown",
   "id": "057917cc",
   "metadata": {},
   "source": [
    "# Deftpy: Algorithmic Prediction of the Thermodynamics of Defects in Metal Oxides\n",
    "\n",
    "#### Ethan Nussinov, Wexler Group\n",
    "\n"
   ]
  },
  {
   "attachments": {},
   "cell_type": "markdown",
   "id": "04b0b2a5",
   "metadata": {},
   "source": [
    "---\n",
    "## Summary\n",
    "\n",
    "Deftpy is a python package built from a model first concieved in a 2021 paper: *Factors Governing Oxygen Vacancy Formation in Oxide Perovskites*, cited in the references. The principal idea governing the creation of the model is that perovskites have proven to be tremendously important for a host of potential applications, everything from sustainable energy to improved computer memory methodologies. All of the aforementioned utilizations are highly dependent on the formation of oxygen vacancies in these perovskites, and as such this is an area of great interest in many applicable domains. In the paper, Wexler et. al. report the construction of a compact linear model (MAE of 0.45eV), dependent on easily accessible and inexpensive data and quantum mechanical calculations, to predict just that -- formation of oxygen vacancies.\n",
    "\n"
   ]
  },
  {
   "cell_type": "markdown",
   "id": "9b30d341",
   "metadata": {},
   "source": [
    "---\n",
    "## Statement of Need\n",
    "\n",
    "The purpose of deftpy is to turn the model from this paper into widely accessible and easily implemented code in python. The workflow of deftpy (outlined in figure 1) is easy to follow.\n",
    "1. A file is read in and stored as an instance of the class `Crystal`\n",
    "2. The unique oxygens in the structure are determined, and assigned coordination numbers using CrystalNN\n",
    "3. The non oxygens are identified and assigned oxidation states\n",
    "4. The $E_b$ and $V_r$ associated by cation are pulled from the XF data\n",
    "5. Using $E_b$, $V_r$, and the coordination numbers of the unique oxygens, $E_v$ is determined using the XF model."
   ]
  },
  {
   "attachments": {},
   "cell_type": "markdown",
   "id": "65a95f30",
   "metadata": {},
   "source": [
    "#### Descriptors for $E_v$\n",
    "\n",
    "$∑E_b$ and $V_r$ for perovskites ($ABO_3$)\n",
    "1. $∑E_b$ = $4E_b$[$O^{2-}$ - $An^+$] + $2E_b$[$O^{2-}$ - $Bm^+$]\n",
    "\n",
    "This is the sum of the $E_b$ values for the crystal bonds formed between a specific $O^{2–}$ that forms the vacancy and its nearest cation neighbors.\n",
    "\n",
    "2. $V_r$ = max($V_r$[$Am^+$ → $An^+$], $V_r$[$Br^+$ → $Bs^+$]), where m>n, and r>s\n",
    "\n",
    "Maximum $V_r$ value among the nearest cation neighbors of a specific $O^{2–}$ and is the most dominant factor determining Ev in our model.\n",
    "\n",
    "These + XF data = $E_v$ (neutral $V_O$ formation energies), SCAN-U/$E_{hull}$\n",
    "\n",
    "\n",
    "\n"
   ]
  },
  {
   "attachments": {},
   "cell_type": "markdown",
   "id": "76da1bd1",
   "metadata": {},
   "source": [
    "#### Calculation of Coordination Numbers\n",
    "\n",
    "We elected to use CrystalNN for assigning coordination numbers to our unique oxug"
   ]
  }
 ],
 "metadata": {
  "kernelspec": {
   "display_name": "base",
   "language": "python",
   "name": "python3"
  },
  "language_info": {
   "codemirror_mode": {
    "name": "ipython",
    "version": 3
   },
   "file_extension": ".py",
   "mimetype": "text/x-python",
   "name": "python",
   "nbconvert_exporter": "python",
   "pygments_lexer": "ipython3",
   "version": "3.9.12"
  },
  "vscode": {
   "interpreter": {
    "hash": "6ac3b6dd44aaff0aa9ed65164304391991eb7be0aaf461540e996ffd4cd9c15d"
   }
  }
 },
 "nbformat": 4,
 "nbformat_minor": 5
}
